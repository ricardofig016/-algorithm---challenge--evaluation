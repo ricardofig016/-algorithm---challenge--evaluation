{
 "cells": [
  {
   "cell_type": "code",
   "execution_count": 3,
   "metadata": {},
   "outputs": [
    {
     "data": {
      "text/plain": [
       "['class_imbalance/dataset_978_mfeat-factors.csv',\n",
       " 'class_imbalance/dataset_947_arsenic-male-bladder.csv',\n",
       " 'class_imbalance/dataset_1004_synthetic_control.csv',\n",
       " 'class_imbalance/dataset_1056_mc1.csv',\n",
       " 'class_imbalance/dataset_940_water-treatment.csv',\n",
       " 'class_imbalance/dataset_950_arsenic-female-lung.csv',\n",
       " 'class_imbalance/dataset_1014_analcatdata_dmft.csv',\n",
       " 'class_imbalance/dataset_1039_hiva_agnostic.csv',\n",
       " 'class_imbalance/dataset_1018_ipums_la_99-small.csv',\n",
       " 'class_imbalance/dataset_1002_ipums_la_98-small.csv',\n",
       " 'class_imbalance/dataset_765_analcatdata_apnea2.csv',\n",
       " 'class_imbalance/dataset_1016_vowel.csv',\n",
       " 'class_imbalance/dataset_1045_kc1-top5.csv',\n",
       " 'class_imbalance/dataset_1013_analcatdata_challenger.csv',\n",
       " 'class_imbalance/dataset_450_analcatdata_lawsuit.csv',\n",
       " 'class_imbalance/dataset_312_scene.csv',\n",
       " 'class_imbalance/dataset_995_mfeat-zernike.csv',\n",
       " 'class_imbalance/dataset_764_analcatdata_apnea3.csv',\n",
       " 'class_imbalance/dataset_311_oil_spill.csv',\n",
       " 'class_imbalance/dataset_980_optdigits.csv',\n",
       " 'class_imbalance/dataset_968_analcatdata_birthday.csv',\n",
       " 'class_imbalance/dataset_987_collins.csv',\n",
       " 'class_imbalance/dataset_767_analcatdata_apnea1.csv',\n",
       " 'class_imbalance/dataset_875_analcatdata_chlamydia.csv',\n",
       " 'class_imbalance/dataset_1061_ar4.csv',\n",
       " 'class_imbalance/dataset_962_mfeat-morphological.csv',\n",
       " 'class_imbalance/dataset_757_meta.csv',\n",
       " 'class_imbalance/dataset_951_arsenic-male-lung.csv',\n",
       " 'class_imbalance/dataset_958_segment.csv',\n",
       " 'class_imbalance/dataset_1064_ar6.csv',\n",
       " 'class_imbalance/dataset_1050_pc3.csv',\n",
       " 'class_imbalance/dataset_463_backache.csv',\n",
       " 'class_imbalance/dataset_1000_hypothyroid.csv',\n",
       " 'class_imbalance/dataset_1049_pc4.csv',\n",
       " 'class_imbalance/dataset_1023_soybean.csv',\n",
       " 'class_imbalance/dataset_316_yeast_ml8.csv',\n",
       " 'class_imbalance/dataset_949_arsenic-female-bladder.csv',\n",
       " 'class_imbalance/dataset_1022_mfeat-pixel.csv',\n",
       " 'class_imbalance/dataset_954_spectrometer.csv',\n",
       " 'class_imbalance/dataset_966_analcatdata_halloffame.csv',\n",
       " 'class_imbalance/dataset_971_mfeat-fourier.csv',\n",
       " 'class_imbalance/dataset_1065_kc3.csv',\n",
       " 'class_imbalance/dataset_1021_page-blocks.csv',\n",
       " 'class_imbalance/dataset_1020_mfeat-karhunen.csv',\n",
       " 'class_imbalance/dataset_1059_ar1.csv',\n",
       " 'class_imbalance/dataset_867_visualizing_livestock.csv',\n",
       " 'class_imbalance/dataset_38_sick.csv',\n",
       " 'class_imbalance/dataset_984_analcatdata_draft.csv',\n",
       " 'class_imbalance/dataset_865_analcatdata_neavote.csv',\n",
       " 'class_imbalance/dataset_976_JapaneseVowels.csv']"
      ]
     },
     "execution_count": 3,
     "metadata": {},
     "output_type": "execute_result"
    }
   ],
   "source": [
    "import glob \n",
    "\n",
    "files = glob.glob(\"class_imbalance/dataset*.csv\")\n",
    "files"
   ]
  }
 ],
 "metadata": {
  "kernelspec": {
   "display_name": ".venv",
   "language": "python",
   "name": "python3"
  },
  "language_info": {
   "codemirror_mode": {
    "name": "ipython",
    "version": 3
   },
   "file_extension": ".py",
   "mimetype": "text/x-python",
   "name": "python",
   "nbconvert_exporter": "python",
   "pygments_lexer": "ipython3",
   "version": "3.13.2"
  }
 },
 "nbformat": 4,
 "nbformat_minor": 2
}
